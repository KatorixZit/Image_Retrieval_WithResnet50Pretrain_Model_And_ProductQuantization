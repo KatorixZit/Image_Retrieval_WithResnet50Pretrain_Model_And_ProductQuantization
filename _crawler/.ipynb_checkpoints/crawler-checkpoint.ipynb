{
 "cells": [
  {
   "cell_type": "code",
   "execution_count": 8,
   "id": "ea5a6893-a2ae-4ac0-b9ac-2bf1fb01ce93",
   "metadata": {},
   "outputs": [],
   "source": [
    "from bs4 import BeautifulSoup\n",
    "from urllib.parse import urljoin, urlparse\n",
    "import urllib.request\n",
    "import threading\n",
    "import time"
   ]
  },
  {
   "cell_type": "code",
   "execution_count": 9,
   "id": "0761ace8-c8d8-40e7-89d1-888f3efdcca2",
   "metadata": {},
   "outputs": [],
   "source": [
    "def is_valid(url):\n",
    "    \"\"\"\n",
    "    Checks whether `url` is a valid URL.\n",
    "    \"\"\"\n",
    "    parsed = urlparse(url)\n",
    "    return bool(parsed.netloc) and bool(parsed.scheme)\n",
    "\n",
    "\n",
    "def get_all_images(url):\n",
    "    \"\"\"\n",
    "    Returns all image URLs on a single `url`\n",
    "    \"\"\"\n",
    "    soup = BeautifulSoup(urllib.request.urlopen(url), \"html.parser\")\n",
    "    urls = []\n",
    "    for img in soup.find_all(\"img\"):\n",
    "        img_url = img.attrs.get(\"src\")\n",
    "        \n",
    "        if not img_url:\n",
    "            # if img does not contain src attribute, just skip\n",
    "            continue\n",
    "        \n",
    "        # make the URL absolute by joining domain with the URL that is just extracted\n",
    "        img_url = urljoin(url, img_url)\n",
    "        # remove URLs like '/hsts-pixel.gif?c=3.2.5'\n",
    "        try:\n",
    "            pos = img_url.index(\"?\")\n",
    "            img_url = img_url[:pos]\n",
    "        except ValueError:\n",
    "            pass\n",
    "        \n",
    "        # finally, if the url is valid\n",
    "        if is_valid(img_url):\n",
    "            urls.append(img_url)\n",
    "    print(\".\", end = ' ')\n",
    "    return urls\n",
    "\n",
    "\n",
    "def flatten(l, datatypes=[list, tuple, set]):\n",
    "    flat_list = []\n",
    "    def handle(l):\n",
    "        for element in l:\n",
    "            if type(element) in datatypes:\n",
    "                handle(element)\n",
    "            else:\n",
    "                flat_list.append(element)\n",
    "    handle(l)\n",
    "    return flat_list"
   ]
  },
  {
   "cell_type": "code",
   "execution_count": 10,
   "id": "739ee797-cc5e-4910-9dd3-8487ec47da21",
   "metadata": {},
   "outputs": [],
   "source": [
    "class checkTimeThread():\n",
    "    def __init__(self, nThreads, npage, urltopic):\n",
    "        self.nThreads = nThreads\n",
    "        self.ExcuteThread = None\n",
    "        self.result = []\n",
    "        self.npage = npage\n",
    "        self.urltopic = urltopic\n",
    "#         url = f'https://gelbooru.com/index.php?page=post&s=list&tags=dress&pid={i}'\n",
    "    \n",
    "\n",
    "    # Func target\n",
    "    def main(self, start, end):\n",
    "        \n",
    "        for i in range(start,end):\n",
    "            try:\n",
    "                self.result.extend(get_all_images(self.urltopic+str(i)))\n",
    "            except:\n",
    "                pass\n",
    "        \n",
    "    def __call__(self):\n",
    "        \n",
    "        # Create Threads\n",
    "        threads = []\n",
    "        \n",
    "        batch = self.npage//self.nThreads\n",
    "        for i in range(0, self.npage, batch):\n",
    "            start = i\n",
    "            end = i + batch\n",
    "           \n",
    "            if end >= self.npage:\n",
    "                end = self.npage + 1\n",
    "\n",
    "            threads.append(threading.Thread(target=self.main, args = (start, end)))\n",
    "        \n",
    "        start = time.time()\n",
    "        for i in range(self.nThreads):\n",
    "            threads[i].start()\n",
    "        for i in range(self.nThreads):\n",
    "            threads[i].join()\n",
    "        end = time.time()\n",
    "    \n",
    "        self.ExcuteThread = end - start\n",
    "    \n",
    "        return self.result\n",
    "        \n",
    "    def __str__(self):\n",
    "        return f\"Excute with {self.nThreads} Thread = {self.ExcuteThread} s\\n\""
   ]
  },
  {
   "cell_type": "code",
   "execution_count": 11,
   "id": "f53f8498-3a20-432d-8ed8-e569461341a2",
   "metadata": {},
   "outputs": [
    {
     "data": {
      "text/plain": [
       "134"
      ]
     },
     "execution_count": 11,
     "metadata": {},
     "output_type": "execute_result"
    }
   ],
   "source": [
    "len(animal + plant + furniture + scenery)"
   ]
  },
  {
   "cell_type": "code",
   "execution_count": 10,
   "id": "632b7d88",
   "metadata": {},
   "outputs": [],
   "source": [
    "animal  =  [\"Monkey\",  \"Elephant\",  \"cows\",  \n",
    "\"Cat\",  \"Dog\",  \"bear\",  \"fox\",  \"Civet\", \n",
    "\"Pangolins\", \"Rabbit\", \"Bats\", \"Whale\", \n",
    "\"Cock\", \"Owl\", \"flamingo\", \"Lizard\", \"Turtle\", \n",
    "\"Snake\", \"Frog\", \"Fish\", \"shrimp\", \"Crab\", \"Snail\", \n",
    "\"Coral\", \"Jellyfish\", \"Butterfly\", \"Flies\", \"Mosquito\", \n",
    "\"Ants\", \"Cockroaches\", \"Spider\", \"scorpion\", \"tiger\", \n",
    "\"bird\",  \"horse\", \"pig\", \"Alligator\" ,\"Alpaca\" , \n",
    "\"Anteater\", \"donkey\", \"Bee\", \"Buffalo\", \"Camel\", \n",
    "\"Caterpillar\", \"Cheetah\", \"Chicken\",  \"Dragonfly\", \n",
    "\"Duck\", \"panda\", \"Giraffe\"]\n",
    "\n",
    "plant = [\"Bamboo\", \"Apple\", \"Apricot\", \"Banana\", \"Bean\", \n",
    "\"Wildflower\", \"Flower\", \"Mushroom\", \"Weed\", \"Fern\" , \"Reed\", \n",
    "\"Shrub\", \"Moss\", \"Grass\", \"Palm_tree\", \"Corn\", \"Tulip\", \"Rose\",\n",
    "\"Clove\", \"Dogwood\", \"Durian\", \"Ferns\", \"Fig\", \"Flax\", \"Frangipani\", \n",
    "\"Lantana\", \"Hibiscus\", \"Bougainvillea\", \"Pea\", \"Orchid_Tree\", \"Rangoon_Creeper\",\n",
    "\"Jack_fruit\", \"Cotton_plant\", \"Cornelian_tree\", \"Coffee_plant\", \"Coconut\"\n",
    ", \"wheat\", \"watermelon\", \"radish\", \"carrot\"]\n",
    "\n",
    "furniture = [\"bed\", \"cabinet\", \"chair\", \"chests\", \"clock\", \n",
    "\"desks\", \"table\", \"Piano\", \"Bookcase\", \"Umbrella\", \"Clothes\", \n",
    "\"cart\", \"sofa\", \"ball\", \"spoon\", \"Bowl\", \"fridge\", \"pan\", \"book\"]\n",
    "\n",
    "scenery = [\"Cliff\", \"Bay\", \"Coast\", \"Mountains\", \"Forests\", \n",
    "\"Waterbodies\", \"Lake\", \"desert\", \"farmland\", \"river\", \"hedges\", \n",
    "\"plain\", \"sky\", \"cave\", \"cloud\", \"flower_garden\", \"glacier\", \n",
    "\"grassland\", \"horizon\", \"lighthouse\", \"plateau\", \"savannah\", \"valley\", \"volcano\", \"waterfall\"]"
   ]
  },
  {
   "cell_type": "code",
   "execution_count": null,
   "id": "9308734e-b4e7-4e8b-a11a-17841b8cc94a",
   "metadata": {},
   "outputs": [],
   "source": [
    "f\"https://www.freepik.com/search?from_query={name}&query={name}&sort=popular&type=photo&page=\"\n",
    "f\"https://www.freeimages.com/search/{name}/\""
   ]
  },
  {
   "cell_type": "code",
   "execution_count": 18,
   "id": "9b909f78-0894-49ec-8ab0-cbb75adb8753",
   "metadata": {},
   "outputs": [],
   "source": [
    "nThreads = 3\n",
    "npage = 6"
   ]
  },
  {
   "cell_type": "code",
   "execution_count": 22,
   "id": "60f07038-e4b9-40ea-be55-6328f1d0a2d0",
   "metadata": {},
   "outputs": [
    {
     "name": "stdout",
     "output_type": "stream",
     "text": [
      ". . . . . . . \n",
      "animal_horse.txt have 303 images\n"
     ]
    }
   ],
   "source": [
    "for name in animal:\n",
    "    result = checkTimeThread(min(nThreads, npage//2), npage, \n",
    "                         f\"https://www.freepik.com/search?from_query={name}&query={name}&sort=popular&type=photo&page=\")()\n",
    "    \n",
    "    result2 = list(set(result))\n",
    "    \n",
    "    print(f\"\\nanimal_{name}.txt have {len(result2)} images\")\n",
    "    strResult = '\\n'.join(result2)\n",
    "    with open(f\"animal_{name}.txt\", \"w\") as f:\n",
    "        f.write(strResult)"
   ]
  },
  {
   "cell_type": "code",
   "execution_count": null,
   "id": "a220c5cb-5520-4ff4-81c0-876e7e7408fb",
   "metadata": {},
   "outputs": [],
   "source": []
  },
  {
   "cell_type": "code",
   "execution_count": null,
   "id": "322afd62-45e2-4bc4-9e87-85958b2a3faf",
   "metadata": {},
   "outputs": [],
   "source": []
  },
  {
   "cell_type": "code",
   "execution_count": 1,
   "id": "7051de47-0a0d-4da0-86ca-8466cc68fab8",
   "metadata": {},
   "outputs": [],
   "source": [
    "# -*- coding: utf-8 -*-\n",
    "\"\"\"\n",
    "Created on Mon Mar 22 15:37:46 2021\n",
    "\n",
    "@author: Quang Van\n",
    "\"\"\"\n",
    "\n",
    "import wget\n",
    "import threading\n",
    "import time\n",
    "import requests\n",
    "import urllib.request, urllib.error\n",
    "import random\n",
    "import os\n",
    "\n",
    "class DownloadFromUrl():\n",
    "    def __init__(self, nThreads, urls, destinate_folder):\n",
    "        self.nThreads = nThreads\n",
    "        self.urls = urls\n",
    "        self.n = len(urls)\n",
    "        self.destinate_folder = destinate_folder\n",
    "        \n",
    "    def get_url_status(self, url):  # checks status for each url in list urls\n",
    "        try:\n",
    "            urllib.request.urlopen(url)\n",
    "            requests.get(url)\n",
    "        except Exception as e:\n",
    "            return False\n",
    "        else:\n",
    "            return True\n",
    "        \n",
    "    # Func target\n",
    "    def down_url(self, start, end):\n",
    "\n",
    "        for i in range(start, end):\n",
    "            try:\n",
    "                response=requests.get(self.urls[i])\n",
    "            except Exception as e:\n",
    "                continue\n",
    "            a = random.random()\n",
    "            with open(f\"{self.destinate_folder}/{a}.jpg\", \"wb\") as f:\n",
    "                f.write(response.content)\n",
    "            print('.', end=\" \")         \n",
    "                 \n",
    "    def __call__(self):\n",
    "        try:\n",
    "            threads = []\n",
    "            batch = self.n//self.nThreads\n",
    "            for i in range(0, self.n, batch):\n",
    "                start = i\n",
    "                end = i + batch\n",
    "\n",
    "                if end >= self.n:\n",
    "                    end = self.n + 1\n",
    "\n",
    "                threads.append(threading.Thread(target=self.down_url, args = (start, end)))\n",
    "        \n",
    "            for i in range(self.nThreads):\n",
    "                threads[i].start()\n",
    "            for i in range(self.nThreads):\n",
    "                threads[i].join()\n",
    "\n",
    "        except Exception as e:\n",
    "            pass    \n",
    "       \n",
    "    def __str__(self):\n",
    "        return f\"Excute with {self.nThreads} Thread = {self.ExcuteThread} s\\n\""
   ]
  },
  {
   "cell_type": "code",
   "execution_count": 19,
   "id": "23602ef3-9a91-4725-a00a-a303b755cc3c",
   "metadata": {},
   "outputs": [],
   "source": [
    "l = []\n",
    "for name_txt in os.listdir():\n",
    "    if name_txt.endswith(\".txt\"):\n",
    "        l.append(name_txt)"
   ]
  },
  {
   "cell_type": "code",
   "execution_count": 20,
   "id": "ac7ad4f4-e002-4094-a451-6a4718ebf9cf",
   "metadata": {},
   "outputs": [
    {
     "data": {
      "text/plain": [
       "134"
      ]
     },
     "execution_count": 20,
     "metadata": {},
     "output_type": "execute_result"
    }
   ],
   "source": [
    "len(l)"
   ]
  },
  {
   "cell_type": "code",
   "execution_count": null,
   "id": "c496de10-5ca1-4540-9cb1-fd1e67c21efa",
   "metadata": {},
   "outputs": [
    {
     "name": "stdout",
     "output_type": "stream",
     "text": [
      "\n",
      " animal_Alligator.txt\n",
      ". . . . . . . . . . . . . . . . . . . . . . . . . . . . . . . . . . . . . . . . . . . . . . . . . . . . . . . . . . . . . . . . . . . . . . . . . . . . . . . . . . . . . . . . . . . . . . . . . . . . . . . . . . . . . . . . . . . . . . . . . . . . . . . . . . . . . . . . . . . . . . . . . . . . . . . . . . . . . . . . . . . . . . . . . . . . . . . . . . . . . . . . . . . . . . . . . . . . . . . . . . . . . . ..  . . . . . . . . . . . . . . . . . . . . . . . . . . . . . . . . . . . . . . . . . . . . . "
     ]
    }
   ],
   "source": [
    "for name_txt in l:\n",
    "    try:\n",
    "        print(f\"\\n {name_txt}\")\n",
    "        with open(f\"{name_txt}\", \"r\") as f:\n",
    "            content = f.readlines()\n",
    "\n",
    "        content = [x.strip() for x in content] \n",
    "\n",
    "        os.makedirs(name_txt[:-4], exist_ok=True)\n",
    "\n",
    "        numThread = 30\n",
    "        DownloadFromUrl(min(numThread, len(content)), content, name_txt[:-4])()\n",
    "\n",
    "    except Exception:\n",
    "        pass"
   ]
  },
  {
   "cell_type": "code",
   "execution_count": 8,
   "id": "d34536d7-43b8-447c-b7c0-df577f42bb43",
   "metadata": {},
   "outputs": [
    {
     "data": {
      "text/plain": [
       "134"
      ]
     },
     "execution_count": 8,
     "metadata": {},
     "output_type": "execute_result"
    }
   ],
   "source": [
    "count"
   ]
  },
  {
   "cell_type": "code",
   "execution_count": null,
   "id": "b20227bb-9613-45c3-b699-5f7c1881608b",
   "metadata": {},
   "outputs": [],
   "source": []
  },
  {
   "cell_type": "code",
   "execution_count": 4,
   "id": "358b9b02-3164-4fc7-9d06-6435a6874ef8",
   "metadata": {},
   "outputs": [],
   "source": [
    "os.makedirs(\"animal_Alpaca\")"
   ]
  },
  {
   "cell_type": "code",
   "execution_count": null,
   "id": "bad42ab4-1ac2-41f4-bbaf-08aedbaa229d",
   "metadata": {
    "tags": []
   },
   "outputs": [
    {
     "name": "stdout",
     "output_type": "stream",
     "text": [
      ". . . . . . . . . . . . . . . . . . . . . . . . . . . . . . . . . . . . . . . . . . . . . . . . . . . . . . ..  . . . . . . . . . . . . . . . . . . . . . . . . . . . . . . . . . . . . . . . . . . . . . . . . . . . . . . . . . . . . . . . . . . . . . . . . . . . . . . . . . . . . . . . . . . . . . . . . . . . . . . . . . . . . . . . . . . . . . . . . . . . . . . . . . . . . . . . . . . . . . . . . . . . . . . . . . . . . . . . . . . . . . . . . "
     ]
    }
   ],
   "source": [
    "numThread = 10\n",
    "DownloadFromUrl(min(numThread, len(content)//2), content, \"animal_Alpaca\")()"
   ]
  },
  {
   "cell_type": "code",
   "execution_count": null,
   "id": "da7cafb7",
   "metadata": {},
   "outputs": [],
   "source": []
  }
 ],
 "metadata": {
  "kernelspec": {
   "display_name": "Python 3 (ipykernel)",
   "language": "python",
   "name": "python3"
  },
  "language_info": {
   "codemirror_mode": {
    "name": "ipython",
    "version": 3
   },
   "file_extension": ".py",
   "mimetype": "text/x-python",
   "name": "python",
   "nbconvert_exporter": "python",
   "pygments_lexer": "ipython3",
   "version": "3.9.6"
  }
 },
 "nbformat": 4,
 "nbformat_minor": 5
}
